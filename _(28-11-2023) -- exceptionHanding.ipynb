{
 "cells": [
  {
   "cell_type": "markdown",
   "id": "e449db94",
   "metadata": {},
   "source": [
    "# Exception Handling\n",
    "#### When an error occurs, or exception as we call it, Python will normally stop and generate an error message.\n",
    "\n",
    "* #### The try block lets you test a block of code for errors.\n",
    "\n",
    "* #### The except block lets you handle the error.\n",
    "\n",
    "* #### The else block lets you execute code when there is no error.\n",
    "\n",
    "* #### The finally block lets you execute code, regardless of the result of the try- and except blocks."
   ]
  },
  {
   "cell_type": "code",
   "execution_count": 2,
   "id": "f34f05d5",
   "metadata": {},
   "outputs": [
    {
     "name": "stdout",
     "output_type": "stream",
     "text": [
      "enter x:5\n",
      "enter y:0\n"
     ]
    },
    {
     "ename": "ZeroDivisionError",
     "evalue": "division by zero",
     "output_type": "error",
     "traceback": [
      "\u001b[1;31m---------------------------------------------------------------------------\u001b[0m",
      "\u001b[1;31mZeroDivisionError\u001b[0m                         Traceback (most recent call last)",
      "Cell \u001b[1;32mIn[2], line 2\u001b[0m\n\u001b[0;32m      1\u001b[0m x,y \u001b[38;5;241m=\u001b[39m \u001b[38;5;28mint\u001b[39m(\u001b[38;5;28minput\u001b[39m(\u001b[38;5;124m'\u001b[39m\u001b[38;5;124menter x:\u001b[39m\u001b[38;5;124m'\u001b[39m)),\u001b[38;5;28mint\u001b[39m(\u001b[38;5;28minput\u001b[39m(\u001b[38;5;124m'\u001b[39m\u001b[38;5;124menter y:\u001b[39m\u001b[38;5;124m'\u001b[39m))\u001b[38;5;66;03m#we get the division error\u001b[39;00m\n\u001b[1;32m----> 2\u001b[0m z\u001b[38;5;241m=\u001b[39mx\u001b[38;5;241m/\u001b[39my\n\u001b[0;32m      3\u001b[0m z\n",
      "\u001b[1;31mZeroDivisionError\u001b[0m: division by zero"
     ]
    }
   ],
   "source": [
    "x,y = int(input('enter x:')),int(input('enter y:'))#we get the division error\n",
    "z=x/y\n",
    "z"
   ]
  },
  {
   "cell_type": "markdown",
   "id": "d191748c",
   "metadata": {},
   "source": [
    "## These exceptions can be handled using the try statement:"
   ]
  },
  {
   "cell_type": "code",
   "execution_count": 3,
   "id": "18b69815",
   "metadata": {},
   "outputs": [
    {
     "name": "stdout",
     "output_type": "stream",
     "text": [
      "enter x:1\n",
      "enter y:0\n",
      "pass valid inputs\n"
     ]
    }
   ],
   "source": [
    "try:\n",
    "    x,y = int(input('enter x:')),int(input('enter y:'))#we get the division error\n",
    "    z=x/y\n",
    "    z\n",
    "except:\n",
    "    print('pass valid inputs')"
   ]
  },
  {
   "cell_type": "code",
   "execution_count": null,
   "id": "ef5d78a5",
   "metadata": {},
   "outputs": [],
   "source": [
    "try:\n",
    "    x,y = int(input('enter x:')),int(input('enter y:'))#if we want to know the  error otherthan the zerodivisionerror and typeerror\n",
    "    z=w/y\n",
    "    z\n",
    "except (zeroDivisionError, TypeError):\n",
    "    print('hey try passing valid inputs!') \n",
    "    "
   ]
  },
  {
   "cell_type": "code",
   "execution_count": null,
   "id": "344cb281",
   "metadata": {},
   "outputs": [],
   "source": [
    "import sys\n",
    "from sys import exc_info"
   ]
  },
  {
   "cell_type": "code",
   "execution_count": null,
   "id": "3df6e66e",
   "metadata": {},
   "outputs": [],
   "source": [
    "try:\n",
    " x, y = int(input('enter x: ')), int(input('enter y: '))\n",
    " z = x/y\n",
    " print(z)\n",
    "\n",
    "except:\n",
    "    print('hey try passing valid inputs!')"
   ]
  },
  {
   "cell_type": "code",
   "execution_count": null,
   "id": "9528777d",
   "metadata": {},
   "outputs": [],
   "source": [
    "## try:\n",
    "    x,y = int(input('enter x:')),int(input('enter y:'))#if we want the name error otherthan thezerodivisionerror and typeerror\n",
    "    z=w/y\n",
    "    z\n",
    "except (zeroDivisionError, TypeError):\n",
    "    print('hey try passing valid inputs!')"
   ]
  },
  {
   "cell_type": "code",
   "execution_count": null,
   "id": "e7eb8db2",
   "metadata": {},
   "outputs": [],
   "source": [
    "import sys\n",
    "from sys import exc_info"
   ]
  },
  {
   "cell_type": "code",
   "execution_count": null,
   "id": "78d89050",
   "metadata": {},
   "outputs": [],
   "source": [
    "try:\n",
    "    x, y = int(input('enter x: ')), int(input('enter y: '))\n",
    "    z = w/y\n",
    "    print(z)\n",
    "    \n",
    "except (ZeroDivisionError, TypeError):\n",
    "    \n",
    "    print('hye try passing valid inputs')\n",
    "    "
   ]
  },
  {
   "cell_type": "code",
   "execution_count": null,
   "id": "2f05fc71",
   "metadata": {},
   "outputs": [],
   "source": [
    "import sys, traceback\n",
    "from sys import exc_info"
   ]
  },
  {
   "cell_type": "code",
   "execution_count": null,
   "id": "f2b8ce54",
   "metadata": {},
   "outputs": [],
   "source": [
    "try:\n",
    "    x, y = int(input('enter x: ')), int(input('enter y: '))\n",
    "    z = x/y\n",
    "    print(z)\n",
    "except:\n",
    "    print(f'{exc_info()[0]}error occured....')\n",
    "    print(traceback.print_exc())\n",
    "    print('pass valid inputs')\n",
    "    "
   ]
  },
  {
   "cell_type": "code",
   "execution_count": null,
   "id": "029ed9ba",
   "metadata": {},
   "outputs": [],
   "source": [
    "while True:\n",
    "    try:\n",
    "        x = int(input('enter x:'))# to know in which line the error occured\n",
    "        print(x)\n",
    "        break\n",
    "    \n",
    "    except :\n",
    "        if x=='number':\n",
    "            print(f'{exc_info()[0]} error occured')\n",
    "            print(traceback.print_exc())\n",
    "        \n",
    "        else:\n",
    "            print('pass valid inputs yaar!')\n",
    "    \n",
    "        "
   ]
  },
  {
   "cell_type": "code",
   "execution_count": null,
   "id": "467aa0ce",
   "metadata": {},
   "outputs": [],
   "source": [
    "password = 5\n",
    "while True:\n",
    "    try:\n",
    "        x = int(input('enter the password(ssssshh it is a positive integer): '))\n",
    "        if x == password:\n",
    "            print('Enter!')\n",
    "            break\n",
    "        else:\n",
    "                raise ZeroDivisionError\n",
    "    except:\n",
    "        if password < x :\n",
    "            print('password is less than the number you gave')\n",
    "        else:\n",
    "            print('password is greater than the number you gave')"
   ]
  },
  {
   "cell_type": "markdown",
   "id": "ccfbfabf",
   "metadata": {},
   "source": [
    "## making use of inheritance creating a custom error"
   ]
  },
  {
   "cell_type": "code",
   "execution_count": null,
   "id": "dd645ccf",
   "metadata": {},
   "outputs": [],
   "source": [
    "class KhudkaError(Exception):\n",
    "    '''Khud ka Error rei bhai!'''\n",
    "    def __init__(self):\n",
    "        print('show you are a bad boy!')"
   ]
  },
  {
   "cell_type": "code",
   "execution_count": null,
   "id": "eef50026",
   "metadata": {},
   "outputs": [],
   "source": []
  },
  {
   "cell_type": "code",
   "execution_count": null,
   "id": "2f7be8e3",
   "metadata": {},
   "outputs": [],
   "source": []
  }
 ],
 "metadata": {
  "kernelspec": {
   "display_name": "Python 3 (ipykernel)",
   "language": "python",
   "name": "python3"
  },
  "language_info": {
   "codemirror_mode": {
    "name": "ipython",
    "version": 3
   },
   "file_extension": ".py",
   "mimetype": "text/x-python",
   "name": "python",
   "nbconvert_exporter": "python",
   "pygments_lexer": "ipython3",
   "version": "3.11.5"
  }
 },
 "nbformat": 4,
 "nbformat_minor": 5
}
